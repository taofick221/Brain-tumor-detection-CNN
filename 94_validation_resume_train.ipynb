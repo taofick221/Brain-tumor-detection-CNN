{
  "nbformat": 4,
  "nbformat_minor": 0,
  "metadata": {
    "colab": {
      "provenance": [],
      "authorship_tag": "ABX9TyM48u7FbUdi92d4KB/KQZlG",
      "include_colab_link": true
    },
    "kernelspec": {
      "name": "python3",
      "display_name": "Python 3"
    },
    "language_info": {
      "name": "python"
    }
  },
  "cells": [
    {
      "cell_type": "markdown",
      "metadata": {
        "id": "view-in-github",
        "colab_type": "text"
      },
      "source": [
        "<a href=\"https://colab.research.google.com/github/taofick221/Brain-tumor-detection-CNN/blob/main/94_validation_resume_train.ipynb\" target=\"_parent\"><img src=\"https://colab.research.google.com/assets/colab-badge.svg\" alt=\"Open In Colab\"/></a>"
      ]
    },
    {
      "cell_type": "markdown",
      "source": [
        "# resume train code\n"
      ],
      "metadata": {
        "id": "KvH5B42C9kzh"
      }
    },
    {
      "cell_type": "code",
      "source": [
        "# ✅ 1. Mount Google Drive\n",
        "from google.colab import drive\n",
        "drive.mount('/content/drive')\n",
        "\n",
        "# ✅ 2. Import Libraries\n",
        "import os\n",
        "import numpy as np\n",
        "import tensorflow as tf\n",
        "from tensorflow.keras.models import load_model\n",
        "from tensorflow.keras.preprocessing.image import ImageDataGenerator\n",
        "from tensorflow.keras.callbacks import ModelCheckpoint, EarlyStopping, ReduceLROnPlateau\n",
        "\n",
        "# ✅ 3. Paths and Parameters\n",
        "train_dir = \"/content/drive/MyDrive/Thesis/preprocess_data3.0/Training\"\n",
        "val_dir   = \"/content/drive/MyDrive/Thesis/preprocess_data3.0/Testing\"\n",
        "model_path = \"/content/drive/MyDrive/Thesis/final_model/best_custom_model.keras\"\n",
        "\n",
        "IMG_SIZE = (224, 224)\n",
        "BATCH_SIZE = 32\n",
        "EPOCHS = 20  # Continue training up to this number\n",
        "\n",
        "# ✅ 4. Load Preprocessed Data\n",
        "train_datagen = ImageDataGenerator(rescale=1./255)\n",
        "val_datagen   = ImageDataGenerator(rescale=1./255)\n",
        "\n",
        "train_generator = train_datagen.flow_from_directory(\n",
        "    train_dir,\n",
        "    target_size=IMG_SIZE,\n",
        "    batch_size=BATCH_SIZE,\n",
        "    class_mode='categorical'\n",
        ")\n",
        "\n",
        "val_generator = val_datagen.flow_from_directory(\n",
        "    val_dir,\n",
        "    target_size=IMG_SIZE,\n",
        "    batch_size=BATCH_SIZE,\n",
        "    class_mode='categorical'\n",
        ")\n",
        "\n",
        "# ✅ 5. Load Best Model from Previous Training\n",
        "model = load_model(model_path)\n",
        "\n",
        "# ✅ 6. Define Callbacks\n",
        "checkpoint = ModelCheckpoint(\n",
        "    model_path,\n",
        "    monitor='val_accuracy',\n",
        "    save_best_only=True,\n",
        "    mode='max',\n",
        "    verbose=1\n",
        ")\n",
        "\n",
        "early_stop = EarlyStopping(\n",
        "    monitor='val_accuracy',\n",
        "    patience=5,\n",
        "    restore_best_weights=True,\n",
        "    verbose=1\n",
        ")\n",
        "\n",
        "reduce_lr = ReduceLROnPlateau(\n",
        "    monitor='val_accuracy',\n",
        "    factor=0.5,\n",
        "    patience=2,\n",
        "    verbose=1\n",
        ")\n",
        "\n",
        "# ✅ 7. Resume Training\n",
        "history = model.fit(\n",
        "    train_generator,\n",
        "    validation_data=val_generator,\n",
        "    epochs=EPOCHS,\n",
        "    callbacks=[checkpoint, early_stop, reduce_lr]\n",
        ")\n"
      ],
      "metadata": {
        "colab": {
          "base_uri": "https://localhost:8080/"
        },
        "id": "4CP-3c0d9nbl",
        "outputId": "bef70b53-0d69-4a92-bec2-eb640c9a2b26"
      },
      "execution_count": null,
      "outputs": [
        {
          "output_type": "stream",
          "name": "stdout",
          "text": [
            "Mounted at /content/drive\n",
            "Found 26151 images belonging to 4 classes.\n",
            "Found 7340 images belonging to 4 classes.\n"
          ]
        },
        {
          "output_type": "stream",
          "name": "stderr",
          "text": [
            "/usr/local/lib/python3.11/dist-packages/keras/src/trainers/data_adapters/py_dataset_adapter.py:121: UserWarning: Your `PyDataset` class should call `super().__init__(**kwargs)` in its constructor. `**kwargs` can include `workers`, `use_multiprocessing`, `max_queue_size`. Do not pass these arguments to `fit()`, as they will be ignored.\n",
            "  self._warn_if_super_not_called()\n"
          ]
        },
        {
          "output_type": "stream",
          "name": "stdout",
          "text": [
            "Epoch 1/20\n",
            "\u001b[1m818/818\u001b[0m \u001b[32m━━━━━━━━━━━━━━━━━━━━\u001b[0m\u001b[37m\u001b[0m \u001b[1m0s\u001b[0m 9s/step - accuracy: 0.9938 - loss: 0.0172\n",
            "Epoch 1: val_accuracy improved from -inf to 0.93665, saving model to /content/drive/MyDrive/Thesis/final_model/best_custom_model.keras\n",
            "\u001b[1m818/818\u001b[0m \u001b[32m━━━━━━━━━━━━━━━━━━━━\u001b[0m\u001b[37m\u001b[0m \u001b[1m9575s\u001b[0m 12s/step - accuracy: 0.9938 - loss: 0.0172 - val_accuracy: 0.9366 - val_loss: 0.3371 - learning_rate: 6.2500e-05\n",
            "Epoch 2/20\n",
            "\u001b[1m818/818\u001b[0m \u001b[32m━━━━━━━━━━━━━━━━━━━━\u001b[0m\u001b[37m\u001b[0m \u001b[1m0s\u001b[0m 3s/step - accuracy: 0.9943 - loss: 0.0174\n",
            "Epoch 2: val_accuracy improved from 0.93665 to 0.94292, saving model to /content/drive/MyDrive/Thesis/final_model/best_custom_model.keras\n",
            "\u001b[1m818/818\u001b[0m \u001b[32m━━━━━━━━━━━━━━━━━━━━\u001b[0m\u001b[37m\u001b[0m \u001b[1m3113s\u001b[0m 4s/step - accuracy: 0.9943 - loss: 0.0174 - val_accuracy: 0.9429 - val_loss: 0.3077 - learning_rate: 6.2500e-05\n",
            "Epoch 3/20\n",
            "\u001b[1m818/818\u001b[0m \u001b[32m━━━━━━━━━━━━━━━━━━━━\u001b[0m\u001b[37m\u001b[0m \u001b[1m0s\u001b[0m 3s/step - accuracy: 0.9942 - loss: 0.0164\n",
            "Epoch 3: val_accuracy did not improve from 0.94292\n",
            "\u001b[1m818/818\u001b[0m \u001b[32m━━━━━━━━━━━━━━━━━━━━\u001b[0m\u001b[37m\u001b[0m \u001b[1m3082s\u001b[0m 4s/step - accuracy: 0.9942 - loss: 0.0164 - val_accuracy: 0.9364 - val_loss: 0.3784 - learning_rate: 6.2500e-05\n",
            "Epoch 4/20\n",
            "\u001b[1m818/818\u001b[0m \u001b[32m━━━━━━━━━━━━━━━━━━━━\u001b[0m\u001b[37m\u001b[0m \u001b[1m0s\u001b[0m 3s/step - accuracy: 0.9948 - loss: 0.0147\n",
            "Epoch 4: val_accuracy did not improve from 0.94292\n",
            "\n",
            "Epoch 4: ReduceLROnPlateau reducing learning rate to 3.125000148429535e-05.\n",
            "\u001b[1m818/818\u001b[0m \u001b[32m━━━━━━━━━━━━━━━━━━━━\u001b[0m\u001b[37m\u001b[0m \u001b[1m3026s\u001b[0m 4s/step - accuracy: 0.9948 - loss: 0.0147 - val_accuracy: 0.9369 - val_loss: 0.3590 - learning_rate: 6.2500e-05\n",
            "Epoch 5/20\n",
            "\u001b[1m818/818\u001b[0m \u001b[32m━━━━━━━━━━━━━━━━━━━━\u001b[0m\u001b[37m\u001b[0m \u001b[1m0s\u001b[0m 3s/step - accuracy: 0.9946 - loss: 0.0141\n",
            "Epoch 5: val_accuracy did not improve from 0.94292\n",
            "\u001b[1m818/818\u001b[0m \u001b[32m━━━━━━━━━━━━━━━━━━━━\u001b[0m\u001b[37m\u001b[0m \u001b[1m3013s\u001b[0m 4s/step - accuracy: 0.9946 - loss: 0.0141 - val_accuracy: 0.9399 - val_loss: 0.3465 - learning_rate: 3.1250e-05\n",
            "Epoch 6/20\n",
            "\u001b[1m818/818\u001b[0m \u001b[32m━━━━━━━━━━━━━━━━━━━━\u001b[0m\u001b[37m\u001b[0m \u001b[1m0s\u001b[0m 3s/step - accuracy: 0.9957 - loss: 0.0131\n",
            "Epoch 6: val_accuracy did not improve from 0.94292\n",
            "\n",
            "Epoch 6: ReduceLROnPlateau reducing learning rate to 1.5625000742147677e-05.\n",
            "\u001b[1m818/818\u001b[0m \u001b[32m━━━━━━━━━━━━━━━━━━━━\u001b[0m\u001b[37m\u001b[0m \u001b[1m2995s\u001b[0m 4s/step - accuracy: 0.9957 - loss: 0.0131 - val_accuracy: 0.9413 - val_loss: 0.3596 - learning_rate: 3.1250e-05\n",
            "Epoch 7/20\n",
            "\u001b[1m818/818\u001b[0m \u001b[32m━━━━━━━━━━━━━━━━━━━━\u001b[0m\u001b[37m\u001b[0m \u001b[1m0s\u001b[0m 3s/step - accuracy: 0.9962 - loss: 0.0110\n",
            "Epoch 7: val_accuracy did not improve from 0.94292\n",
            "\u001b[1m818/818\u001b[0m \u001b[32m━━━━━━━━━━━━━━━━━━━━\u001b[0m\u001b[37m\u001b[0m \u001b[1m2984s\u001b[0m 4s/step - accuracy: 0.9962 - loss: 0.0110 - val_accuracy: 0.9424 - val_loss: 0.3502 - learning_rate: 1.5625e-05\n",
            "Epoch 7: early stopping\n",
            "Restoring model weights from the end of the best epoch: 2.\n"
          ]
        }
      ]
    }
  ]
}